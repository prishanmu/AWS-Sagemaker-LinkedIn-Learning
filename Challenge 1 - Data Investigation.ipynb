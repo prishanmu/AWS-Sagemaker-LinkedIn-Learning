{
 "cells": [
  {
   "cell_type": "code",
   "execution_count": 1,
   "metadata": {},
   "outputs": [],
   "source": [
    "import pandas as pd\n",
    "import numpy as np\n",
    "import matplotlib.pyplot as plt"
   ]
  },
  {
   "cell_type": "markdown",
   "metadata": {},
   "source": [
    "### download and import data"
   ]
  },
  {
   "cell_type": "code",
   "execution_count": 2,
   "metadata": {},
   "outputs": [
    {
     "name": "stdout",
     "output_type": "stream",
     "text": [
      "--2020-07-10 17:08:08--  http://dataminingconsultant.com/DKD2e_data_sets.zip\n",
      "Resolving dataminingconsultant.com (dataminingconsultant.com)... 160.153.91.162\n",
      "Connecting to dataminingconsultant.com (dataminingconsultant.com)|160.153.91.162|:80... connected.\n",
      "HTTP request sent, awaiting response... 200 OK\n",
      "Length: 1003616 (980K) [application/zip]\n",
      "Saving to: ‘DKD2e_data_sets.zip’\n",
      "\n",
      "DKD2e_data_sets.zip 100%[===================>] 980.09K  2.03MB/s    in 0.5s    \n",
      "\n",
      "2020-07-10 17:08:09 (2.03 MB/s) - ‘DKD2e_data_sets.zip’ saved [1003616/1003616]\n",
      "\n",
      "Archive:  DKD2e_data_sets.zip\n",
      " extracting: Data sets/adult.zip     \n",
      "  inflating: Data sets/cars.txt      \n",
      "  inflating: Data sets/cars2.txt     \n",
      "  inflating: Data sets/cereals.CSV   \n",
      "  inflating: Data sets/churn.txt     \n",
      "  inflating: Data sets/ClassifyRisk  \n",
      "  inflating: Data sets/ClassifyRisk - Missing.txt  \n",
      " extracting: Data sets/DKD2e data sets.zip  \n",
      "  inflating: Data sets/nn1.txt       \n"
     ]
    }
   ],
   "source": [
    "!wget http://dataminingconsultant.com/DKD2e_data_sets.zip\n",
    "! unzip -o DKD2e_data_sets.zip"
   ]
  },
  {
   "cell_type": "code",
   "execution_count": 8,
   "metadata": {},
   "outputs": [
    {
     "data": {
      "text/html": [
       "<div>\n",
       "<style scoped>\n",
       "    .dataframe tbody tr th:only-of-type {\n",
       "        vertical-align: middle;\n",
       "    }\n",
       "\n",
       "    .dataframe tbody tr th {\n",
       "        vertical-align: top;\n",
       "    }\n",
       "\n",
       "    .dataframe thead th {\n",
       "        text-align: right;\n",
       "    }\n",
       "</style>\n",
       "<table border=\"1\" class=\"dataframe\">\n",
       "  <thead>\n",
       "    <tr style=\"text-align: right;\">\n",
       "      <th></th>\n",
       "      <th>mpg</th>\n",
       "      <th>cylinders</th>\n",
       "      <th>cubicinches</th>\n",
       "      <th>hp</th>\n",
       "      <th>weightlbs</th>\n",
       "      <th>time-to-60</th>\n",
       "      <th>year</th>\n",
       "      <th>brand</th>\n",
       "    </tr>\n",
       "  </thead>\n",
       "  <tbody>\n",
       "    <tr>\n",
       "      <th>0</th>\n",
       "      <td>14.0</td>\n",
       "      <td>8</td>\n",
       "      <td>350</td>\n",
       "      <td>165</td>\n",
       "      <td>4209</td>\n",
       "      <td>12</td>\n",
       "      <td>1972</td>\n",
       "      <td>US.</td>\n",
       "    </tr>\n",
       "    <tr>\n",
       "      <th>1</th>\n",
       "      <td>31.9</td>\n",
       "      <td>4</td>\n",
       "      <td>89</td>\n",
       "      <td>71</td>\n",
       "      <td>1925</td>\n",
       "      <td>14</td>\n",
       "      <td>1980</td>\n",
       "      <td>Europe.</td>\n",
       "    </tr>\n",
       "    <tr>\n",
       "      <th>2</th>\n",
       "      <td>17.0</td>\n",
       "      <td>8</td>\n",
       "      <td>302</td>\n",
       "      <td>140</td>\n",
       "      <td>3449</td>\n",
       "      <td>11</td>\n",
       "      <td>1971</td>\n",
       "      <td>US.</td>\n",
       "    </tr>\n",
       "    <tr>\n",
       "      <th>3</th>\n",
       "      <td>15.0</td>\n",
       "      <td>8</td>\n",
       "      <td>400</td>\n",
       "      <td>150</td>\n",
       "      <td>3761</td>\n",
       "      <td>10</td>\n",
       "      <td>1971</td>\n",
       "      <td>US.</td>\n",
       "    </tr>\n",
       "    <tr>\n",
       "      <th>4</th>\n",
       "      <td>30.5</td>\n",
       "      <td>4</td>\n",
       "      <td>98</td>\n",
       "      <td>63</td>\n",
       "      <td>2051</td>\n",
       "      <td>17</td>\n",
       "      <td>1978</td>\n",
       "      <td>US.</td>\n",
       "    </tr>\n",
       "  </tbody>\n",
       "</table>\n",
       "</div>"
      ],
      "text/plain": [
       "    mpg   cylinders   cubicinches   hp   weightlbs   time-to-60   year  \\\n",
       "0  14.0           8           350  165        4209           12   1972   \n",
       "1  31.9           4            89   71        1925           14   1980   \n",
       "2  17.0           8           302  140        3449           11   1971   \n",
       "3  15.0           8           400  150        3761           10   1971   \n",
       "4  30.5           4            98   63        2051           17   1978   \n",
       "\n",
       "      brand  \n",
       "0       US.  \n",
       "1   Europe.  \n",
       "2       US.  \n",
       "3       US.  \n",
       "4       US.  "
      ]
     },
     "execution_count": 8,
     "metadata": {},
     "output_type": "execute_result"
    }
   ],
   "source": [
    "df = pd.read_csv(\"./Data sets/cars.txt\")\n",
    "df.head()"
   ]
  },
  {
   "cell_type": "markdown",
   "metadata": {},
   "source": [
    "### create a bar chart of the frequency of the year of cars from imported data"
   ]
  },
  {
   "cell_type": "code",
   "execution_count": 37,
   "metadata": {},
   "outputs": [
    {
     "data": {
      "text/plain": [
       "<matplotlib.axes._subplots.AxesSubplot at 0x7f5f2520dba8>"
      ]
     },
     "execution_count": 37,
     "metadata": {},
     "output_type": "execute_result"
    },
    {
     "data": {
      "image/png": "[encoded data removed]",
      "text/plain": [
       "<Figure size 720x720 with 1 Axes>"
      ]
     },
     "metadata": {
      "needs_background": "light"
     },
     "output_type": "display_data"
    }
   ],
   "source": [
    "df[' year'].hist(bins = 13, figsize=(10,10))"
   ]
  },
  {
   "cell_type": "code",
   "execution_count": 40,
   "metadata": {},
   "outputs": [
    {
     "data": {
      "text/plain": [
       "<matplotlib.axes._subplots.AxesSubplot at 0x7f5f251f6e10>"
      ]
     },
     "execution_count": 40,
     "metadata": {},
     "output_type": "execute_result"
    },
    {
     "data": {
      "image/png": "[encoded data removed]",
      "text/plain": [
       "<Figure size 432x288 with 1 Axes>"
      ]
     },
     "metadata": {
      "needs_background": "light"
     },
     "output_type": "display_data"
    }
   ],
   "source": [
    "# alternatively\n",
    "df[' year'].value_counts().plot(kind='bar')"
   ]
  },
  {
   "cell_type": "markdown",
   "metadata": {},
   "source": [
    "### compare the average values to the median values for the numeric values in the cars dataset"
   ]
  },
  {
   "cell_type": "code",
   "execution_count": 25,
   "metadata": {},
   "outputs": [
    {
     "data": {
      "text/plain": [
       "mpg               23.144828\n",
       " cylinders         5.590038\n",
       " cubicinches     201.103448\n",
       " hp              106.360153\n",
       " weightlbs      3005.490421\n",
       " time-to-60       15.547893\n",
       " year           1976.819923\n",
       "dtype: float64"
      ]
     },
     "execution_count": 25,
     "metadata": {},
     "output_type": "execute_result"
    }
   ],
   "source": [
    "df.mean()"
   ]
  },
  {
   "cell_type": "code",
   "execution_count": 21,
   "metadata": {},
   "outputs": [
    {
     "data": {
      "text/plain": [
       "mpg               22.0\n",
       " cylinders         6.0\n",
       " cubicinches     156.0\n",
       " hp               95.0\n",
       " weightlbs      2835.0\n",
       " time-to-60       16.0\n",
       " year           1977.0\n",
       "dtype: float64"
      ]
     },
     "execution_count": 21,
     "metadata": {},
     "output_type": "execute_result"
    }
   ],
   "source": [
    "df.median()"
   ]
  },
  {
   "cell_type": "code",
   "execution_count": 38,
   "metadata": {},
   "outputs": [
    {
     "data": {
      "text/html": [
       "<div>\n",
       "<style scoped>\n",
       "    .dataframe tbody tr th:only-of-type {\n",
       "        vertical-align: middle;\n",
       "    }\n",
       "\n",
       "    .dataframe tbody tr th {\n",
       "        vertical-align: top;\n",
       "    }\n",
       "\n",
       "    .dataframe thead th {\n",
       "        text-align: right;\n",
       "    }\n",
       "</style>\n",
       "<table border=\"1\" class=\"dataframe\">\n",
       "  <thead>\n",
       "    <tr style=\"text-align: right;\">\n",
       "      <th></th>\n",
       "      <th>count</th>\n",
       "      <th>mean</th>\n",
       "      <th>std</th>\n",
       "      <th>min</th>\n",
       "      <th>25%</th>\n",
       "      <th>50%</th>\n",
       "      <th>75%</th>\n",
       "      <th>max</th>\n",
       "    </tr>\n",
       "  </thead>\n",
       "  <tbody>\n",
       "    <tr>\n",
       "      <th>mpg</th>\n",
       "      <td>261.0</td>\n",
       "      <td>23.144828</td>\n",
       "      <td>7.823570</td>\n",
       "      <td>10.0</td>\n",
       "      <td>16.9</td>\n",
       "      <td>22.0</td>\n",
       "      <td>28.8</td>\n",
       "      <td>46.6</td>\n",
       "    </tr>\n",
       "    <tr>\n",
       "      <th>cylinders</th>\n",
       "      <td>261.0</td>\n",
       "      <td>5.590038</td>\n",
       "      <td>1.733310</td>\n",
       "      <td>3.0</td>\n",
       "      <td>4.0</td>\n",
       "      <td>6.0</td>\n",
       "      <td>8.0</td>\n",
       "      <td>8.0</td>\n",
       "    </tr>\n",
       "    <tr>\n",
       "      <th>cubicinches</th>\n",
       "      <td>261.0</td>\n",
       "      <td>201.103448</td>\n",
       "      <td>108.879683</td>\n",
       "      <td>68.0</td>\n",
       "      <td>101.0</td>\n",
       "      <td>156.0</td>\n",
       "      <td>302.0</td>\n",
       "      <td>455.0</td>\n",
       "    </tr>\n",
       "    <tr>\n",
       "      <th>hp</th>\n",
       "      <td>261.0</td>\n",
       "      <td>106.360153</td>\n",
       "      <td>40.499959</td>\n",
       "      <td>46.0</td>\n",
       "      <td>75.0</td>\n",
       "      <td>95.0</td>\n",
       "      <td>138.0</td>\n",
       "      <td>230.0</td>\n",
       "    </tr>\n",
       "    <tr>\n",
       "      <th>weightlbs</th>\n",
       "      <td>261.0</td>\n",
       "      <td>3005.490421</td>\n",
       "      <td>852.645596</td>\n",
       "      <td>1613.0</td>\n",
       "      <td>2246.0</td>\n",
       "      <td>2835.0</td>\n",
       "      <td>3664.0</td>\n",
       "      <td>4997.0</td>\n",
       "    </tr>\n",
       "    <tr>\n",
       "      <th>time-to-60</th>\n",
       "      <td>261.0</td>\n",
       "      <td>15.547893</td>\n",
       "      <td>2.910625</td>\n",
       "      <td>8.0</td>\n",
       "      <td>14.0</td>\n",
       "      <td>16.0</td>\n",
       "      <td>17.0</td>\n",
       "      <td>25.0</td>\n",
       "    </tr>\n",
       "    <tr>\n",
       "      <th>year</th>\n",
       "      <td>261.0</td>\n",
       "      <td>1976.819923</td>\n",
       "      <td>3.637696</td>\n",
       "      <td>1971.0</td>\n",
       "      <td>1974.0</td>\n",
       "      <td>1977.0</td>\n",
       "      <td>1980.0</td>\n",
       "      <td>1983.0</td>\n",
       "    </tr>\n",
       "  </tbody>\n",
       "</table>\n",
       "</div>"
      ],
      "text/plain": [
       "              count         mean         std     min     25%     50%     75%  \\\n",
       "mpg           261.0    23.144828    7.823570    10.0    16.9    22.0    28.8   \n",
       " cylinders    261.0     5.590038    1.733310     3.0     4.0     6.0     8.0   \n",
       " cubicinches  261.0   201.103448  108.879683    68.0   101.0   156.0   302.0   \n",
       " hp           261.0   106.360153   40.499959    46.0    75.0    95.0   138.0   \n",
       " weightlbs    261.0  3005.490421  852.645596  1613.0  2246.0  2835.0  3664.0   \n",
       " time-to-60   261.0    15.547893    2.910625     8.0    14.0    16.0    17.0   \n",
       " year         261.0  1976.819923    3.637696  1971.0  1974.0  1977.0  1980.0   \n",
       "\n",
       "                 max  \n",
       "mpg             46.6  \n",
       " cylinders       8.0  \n",
       " cubicinches   455.0  \n",
       " hp            230.0  \n",
       " weightlbs    4997.0  \n",
       " time-to-60     25.0  \n",
       " year         1983.0  "
      ]
     },
     "execution_count": 38,
     "metadata": {},
     "output_type": "execute_result"
    }
   ],
   "source": [
    "df.describe().transpose() #50% = median"
   ]
  },
  {
   "cell_type": "code",
   "execution_count": null,
   "metadata": {},
   "outputs": [],
   "source": []
  }
 ],
 "metadata": {
  "kernelspec": {
   "display_name": "conda_python3",
   "language": "python",
   "name": "conda_python3"
  },
  "language_info": {
   "codemirror_mode": {
    "name": "ipython",
    "version": 3
   },
   "file_extension": ".py",
   "mimetype": "text/x-python",
   "name": "python",
   "nbconvert_exporter": "python",
   "pygments_lexer": "ipython3",
   "version": "3.6.10"
  }
 },
 "nbformat": 4,
 "nbformat_minor": 4
}
